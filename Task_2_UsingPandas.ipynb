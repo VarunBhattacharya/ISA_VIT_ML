{
 "metadata": {
  "language_info": {
   "codemirror_mode": {
    "name": "ipython",
    "version": 3
   },
   "file_extension": ".py",
   "mimetype": "text/x-python",
   "name": "python",
   "nbconvert_exporter": "python",
   "pygments_lexer": "ipython3",
   "version": "3.8.5-final"
  },
  "orig_nbformat": 2,
  "kernelspec": {
   "name": "python385jvsc74a57bd04a74d5fc6a8f90e3212c6700ce835c31520c555a54a1014a846205f394760317",
   "display_name": "Python 3.8.5 64-bit"
  },
  "metadata": {
   "interpreter": {
    "hash": "4a74d5fc6a8f90e3212c6700ce835c31520c555a54a1014a846205f394760317"
   }
  }
 },
 "nbformat": 4,
 "nbformat_minor": 2,
 "cells": [
  {
   "source": [
    "# LEVEL - 1"
   ],
   "cell_type": "markdown",
   "metadata": {}
  },
  {
   "cell_type": "code",
   "execution_count": null,
   "metadata": {},
   "outputs": [],
   "source": [
    "#Importing Libraries\n",
    "import pandas as pd\n",
    "import numpy as np"
   ]
  },
  {
   "cell_type": "code",
   "execution_count": null,
   "metadata": {},
   "outputs": [],
   "source": [
    "#Reading the Dataset\n",
    "df = pd.read_csv(\"weatherAUS.csv\")\n",
    "df"
   ]
  },
  {
   "cell_type": "code",
   "execution_count": null,
   "metadata": {},
   "outputs": [],
   "source": [
    "#For the number of rows and columns\n",
    "df.shape"
   ]
  },
  {
   "cell_type": "code",
   "execution_count": null,
   "metadata": {},
   "outputs": [],
   "source": [
    "#Finding Average Maximum Temperature\n",
    "avg_mxtemp = (df['MaxTemp'].sum())/(len(df.axes[0]))\n",
    "avg_mxtemp"
   ]
  },
  {
   "cell_type": "code",
   "execution_count": null,
   "metadata": {},
   "outputs": [],
   "source": [
    "#Finding Average Minimum Temperature\n",
    "avg_mntemp = (df['MinTemp'].sum())/(len(df.axes[0]))\n",
    "avg_mntemp"
   ]
  },
  {
   "cell_type": "code",
   "execution_count": null,
   "metadata": {},
   "outputs": [],
   "source": [
    "#Finding the Average Maximum Temperature in the Location Cobar.\n",
    "df1 = df[df['Location']=='Cobar']\n",
    "avg_mxtemp_cobar = (df1['MaxTemp'].sum())/(len(df1.axes[0]))\n",
    "avg_mxtemp_cobar\n",
    "#np.max(df1['MaxTemp'])"
   ]
  },
  {
   "cell_type": "code",
   "execution_count": null,
   "metadata": {},
   "outputs": [],
   "source": [
    "#Finding the count of null value in the column → Sunshine and Evaporation\n",
    "cnt_sun = df['Sunshine'].isnull().sum()\n",
    "cnt_eva = df['Evaporation'].isnull().sum()\n",
    "print(\"Sunshine =\", cnt_sun)\n",
    "print(\"Evaporation =\", cnt_eva)"
   ]
  },
  {
   "source": [
    "# Level 2"
   ],
   "cell_type": "markdown",
   "metadata": {}
  },
  {
   "cell_type": "code",
   "execution_count": null,
   "metadata": {},
   "outputs": [],
   "source": [
    "#Replace the missing values with the average of that column (Do this for the column of evaporation only)\n",
    "avg_eva = (df['Evaporation'].sum())/(len(df.axes[0]))\n",
    "df['Evaporation'] = df['Evaporation'].replace(np.nan, avg_eva)\n",
    "df"
   ]
  },
  {
   "cell_type": "code",
   "execution_count": null,
   "metadata": {},
   "outputs": [],
   "source": [
    "#Dropping the column which has null values\n",
    "df.dropna()"
   ]
  },
  {
   "cell_type": "code",
   "execution_count": null,
   "metadata": {},
   "outputs": [],
   "source": [
    "#Dropping the date column\n",
    "df.drop(['Date'], axis = 1)"
   ]
  },
  {
   "source": [
    "# Level 3"
   ],
   "cell_type": "markdown",
   "metadata": {}
  },
  {
   "cell_type": "code",
   "execution_count": null,
   "metadata": {},
   "outputs": [],
   "source": [
    "#Making a user defined function that would filter the location according to the given input of the user\n",
    "def show_loc(place):\n",
    "    df2 = df[df['Location']==place]\n",
    "    return df2"
   ]
  },
  {
   "cell_type": "code",
   "execution_count": null,
   "metadata": {},
   "outputs": [],
   "source": [
    "show_loc(\"Albury\")"
   ]
  }
 ]
}